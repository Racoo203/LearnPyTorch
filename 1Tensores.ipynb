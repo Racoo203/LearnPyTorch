{
  "cells": [
    {
      "cell_type": "markdown",
      "metadata": {
        "id": "view-in-github",
        "colab_type": "text"
      },
      "source": [
        "<a href=\"https://colab.research.google.com/github/Racoo203/LearnPyTorch/blob/main/1Tensores.ipynb\" target=\"_parent\"><img src=\"https://colab.research.google.com/assets/colab-badge.svg\" alt=\"Open In Colab\"/></a>"
      ]
    },
    {
      "cell_type": "markdown",
      "metadata": {
        "id": "5_KsDCkulccr"
      },
      "source": [
        "# Tensores e inicio.\n",
        "\n",
        "Importancion de la librearia\n",
        "- Pytorch -> Import torch\n",
        "\n",
        "Con esta forma podemos descargar toda la libreria de Pytorch\n",
        "Esta libreria contiene todo lo necesario para poder manejar redes neuronales dentro de Python. Existen analogas como TensorFlow, pero por motivos tecnicos, manejaremos Pytorch para mayor comodidad."
      ]
    },
    {
      "cell_type": "code",
      "execution_count": null,
      "metadata": {
        "id": "AHEdEBdolccy",
        "outputId": "2c35b993-aac9-453d-e818-d70737cfbe45"
      },
      "outputs": [
        {
          "name": "stderr",
          "output_type": "stream",
          "text": [
            "c:\\Users\\Felip\\Miniconda3\\envs\\MLearn\\lib\\site-packages\\tqdm\\auto.py:22: TqdmWarning: IProgress not found. Please update jupyter and ipywidgets. See https://ipywidgets.readthedocs.io/en/stable/user_install.html\n",
            "  from .autonotebook import tqdm as notebook_tqdm\n"
          ]
        }
      ],
      "source": [
        "import torch"
      ]
    },
    {
      "cell_type": "markdown",
      "metadata": {
        "id": "WGD0K4CDlcc0"
      },
      "source": [
        "Como introducción vamos a presentar el concepto de **Tensor**. Normalmente conocemos cosas como los __Vectores__, que son objetos que permiten guardar información en filas. Pero mas precisamente, todos los tipos de datos que miramos, ya sea, numero, vector, matriz, son tensores, pero de dimensiones pequeñas. \n",
        "\n",
        "En Python normalmente a un vector le llamamos *Lista* la cual tiene la propiedad de guardar N valores dentro de un objeto, he aqui un ejemplo:"
      ]
    },
    {
      "cell_type": "code",
      "execution_count": null,
      "metadata": {
        "id": "4m9zwSQClcc0",
        "outputId": "b635763b-b2a6-4a85-94f7-739dd40d2463"
      },
      "outputs": [
        {
          "name": "stdout",
          "output_type": "stream",
          "text": [
            "[1, 2, 3, 4, 5]\n"
          ]
        }
      ],
      "source": [
        "# Crear una lista con 5 elementos\n",
        "lista = [1, 2, 3, 4, 5]\n",
        "print(lista)"
      ]
    },
    {
      "cell_type": "markdown",
      "metadata": {
        "id": "4a9oNyjxlcc1"
      },
      "source": [
        "Esta lista contiene **5** valores dentro, pero a la vez, nosotros podemos verlo como un vector de 5 dimensiones. La notación para denotar las dimensiones de los vectores usamos $\\R^{n}$, donde $n$ es el numero de dimensiones con las que definimos al vector, en este caso el vector _lista_ que tenemos, tiene una dimension de $R^{5}$, y de esa forma tenemos los vectores.\n",
        "\n",
        "Ocurre que, pytorch no maneja las listas de python como un vector, por lo que tenemos que pasarlo de Lista_python -> Vector_pytorch, para eso existe una función que convierte las listas a vectores de pytorch. Esta funcion es\n",
        "\n",
        "_Lista_ -> _Tensor_ [**torch.Tensor(Lista)**]\n",
        "\n",
        "Podemos definir la función y probarla con la lista que ya habiamos definido."
      ]
    },
    {
      "cell_type": "code",
      "execution_count": null,
      "metadata": {
        "id": "qDjUryg7lcc2",
        "outputId": "dec4f8c5-3085-42f2-ba32-bc887dfbfb75"
      },
      "outputs": [
        {
          "name": "stdout",
          "output_type": "stream",
          "text": [
            "tensor([1, 2, 3, 4, 5])\n"
          ]
        }
      ],
      "source": [
        "vector = torch.tensor(lista)\n",
        "print(vector)"
      ]
    },
    {
      "cell_type": "markdown",
      "metadata": {
        "id": "N9qcjlErlcc2"
      },
      "source": [
        "Como podemos ver, tenemos que convertimos la lista de 5 elementos a un vector de 5 dimensiones.\n",
        "\n",
        "Realmente un Vector es un tensor, los tensores son objetos que guardan valores en objetos de multidimensiones. Como ya habia dicho, los numeros normales son tambien vectores, pero en este caso es un Tensor de tamaño 0. Un vector es un Tensor de tamaño 1xn, una matriz es un tensor de tamaño 2, con nxm dimensiones, cuando el tamaño es mayor a 3, se le empieza a llamar \"Tensor\" y tienen la forma de a x b x c ... x n  dimensiones. \n",
        "\n",
        "Para poder checar el tamaño de un Tensor, el objeto tensor tiene la variable shape, la cual se llama de la siguiente manera\n",
        "\n",
        "*Retorno del tamaño*\n",
        "\n",
        "Si tenemos un Tensor llamado objeto, podemos saber su tamaño si usamos la opción:\n",
        "\n",
        "_objeto.shape_\n",
        "\n",
        "He aqui un ejemplo:"
      ]
    },
    {
      "cell_type": "code",
      "execution_count": null,
      "metadata": {
        "id": "1-egAQUNlcc4",
        "outputId": "80410406-6c4d-4172-a31c-dadd4be7e80c"
      },
      "outputs": [
        {
          "name": "stdout",
          "output_type": "stream",
          "text": [
            "torch.Size([3, 3])\n"
          ]
        }
      ],
      "source": [
        "# Definir un tensor objeto en base a una lista de listas\n",
        "lista = [[1, 2, 3], [4, 5, 6], [7, 8, 9]]\n",
        "tensor = torch.tensor(lista)\n",
        "# Retornar el tamaño del tensor\n",
        "print(tensor.shape)"
      ]
    },
    {
      "cell_type": "markdown",
      "metadata": {
        "id": "_YNBFwVplcc5"
      },
      "source": [
        "### Indexación de Tensores\n",
        "\n",
        "Los tensores son objetos que guardan valores en una lista, por lo que podemos acceder a ellos de la misma forma que accedemos a una lista. Para acceder a un elemento de un tensor, usamos la siguiente notación:"
      ]
    },
    {
      "cell_type": "code",
      "execution_count": null,
      "metadata": {
        "id": "9Jfis2wRlcc8",
        "outputId": "17aabc8c-2698-43a9-a0bd-18004a3916c5"
      },
      "outputs": [
        {
          "name": "stdout",
          "output_type": "stream",
          "text": [
            "tensor([1, 2, 3])\n",
            "tensor(1)\n"
          ]
        }
      ],
      "source": [
        "# Indexar un tensor\n",
        "print(tensor[0]) # Primer elemento Como tiene varias dimensiones, retorna un tensor\n",
        "print(tensor[0][0]) # Primer elemento del primer elemento"
      ]
    },
    {
      "cell_type": "markdown",
      "metadata": {
        "id": "VQWQlYrrlcc9"
      },
      "source": [
        "Una lista de listas es una representación de una matriz, el cual es un Tensor de tamaño nxm , en este caso tiene un tamaño de 2, con las dimensiones 3 x 3, de esta forma podemos ir expandiendo la dimension a un tamaño de 3, pudiendo pasar de una matriz a un cubo, siendo de M x N x K y asi infinitamente.\n",
        "\n",
        "Pytorch tiene funciones que permiten generar Tensores de tamaño definido, pero no con valores valores vacios dentro. Existen varias funciones que podemos usar para poder tener los Tensores, las siguientes son ejemplos de funciones:\n",
        "\n",
        "*Tensor de puros valores 0*"
      ]
    },
    {
      "cell_type": "code",
      "execution_count": null,
      "metadata": {
        "id": "N0DjRX2Llcc9",
        "outputId": "8cdd3370-5c9c-4d20-eb77-62c55e27fdac"
      },
      "outputs": [
        {
          "name": "stdout",
          "output_type": "stream",
          "text": [
            "tensor([[[0., 0., 0.],\n",
            "         [0., 0., 0.]],\n",
            "\n",
            "        [[0., 0., 0.],\n",
            "         [0., 0., 0.]]])\n"
          ]
        }
      ],
      "source": [
        "# Generar un Tensor de tamaño [2,3 ,4] de puros ceros\n",
        "Zero_Tensor = torch.zeros([2, 2, 3])\n",
        "print(Zero_Tensor)"
      ]
    },
    {
      "cell_type": "markdown",
      "metadata": {
        "id": "iMdLwq2Tlcc-"
      },
      "source": [
        "*Tensor de puros valores 1*"
      ]
    },
    {
      "cell_type": "code",
      "execution_count": null,
      "metadata": {
        "id": "1DO-pGMMlcc_",
        "outputId": "28677c8e-a872-4f20-8988-a302170f522f"
      },
      "outputs": [
        {
          "name": "stdout",
          "output_type": "stream",
          "text": [
            "tensor([[[1., 1., 1.],\n",
            "         [1., 1., 1.]],\n",
            "\n",
            "        [[1., 1., 1.],\n",
            "         [1., 1., 1.]]])\n"
          ]
        }
      ],
      "source": [
        "# Generar un Tensor de tamaño [2,3 ,4] de puros unos\n",
        "One_Tensor = torch.ones([2, 2, 3])\n",
        "print(One_Tensor)"
      ]
    },
    {
      "cell_type": "markdown",
      "metadata": {
        "id": "HfhIyhzUlcdB"
      },
      "source": [
        "*Tensor de valores aleatorios entre 0 y 1*"
      ]
    },
    {
      "cell_type": "code",
      "execution_count": null,
      "metadata": {
        "id": "eCVj3qe-lcdB",
        "outputId": "1d91f96e-8e22-4d25-d7a3-416041277959"
      },
      "outputs": [
        {
          "name": "stdout",
          "output_type": "stream",
          "text": [
            "tensor([[[0.7121, 0.1243, 0.7605],\n",
            "         [0.1065, 0.0952, 0.9642]],\n",
            "\n",
            "        [[0.6545, 0.5998, 0.1234],\n",
            "         [0.2058, 0.8193, 0.6076]]])\n"
          ]
        }
      ],
      "source": [
        "# Generar un Tensor de tamaño [2,3 ,4] de valores aleatorios\n",
        "Random_Tensor = torch.rand([2, 2, 3])\n",
        "print(Random_Tensor)"
      ]
    },
    {
      "cell_type": "markdown",
      "metadata": {
        "id": "ZckV788clcdC"
      },
      "source": [
        "## Operación entre Tensores\n",
        "\n",
        "Al igual que la suma entre numeros o vectores, los tensores tienen de igual menera sus operadores, los cuales, los mas basicos son los siguientes\n",
        "\n",
        "*Operadores*\n",
        "- Suma / Resta\n",
        "- Multiplicación por Hadamard o Wise-to-Wise\n",
        "- Producto Punto\n",
        "- División\n",
        "\n",
        "### Suma\n",
        "Al igual que con una matriz, si hacemos una suma entre Tensores existen varios casos en los que cada uno tiene un resultado distinto dependiendo de los tamaños de los Tensores.\n",
        "\n",
        "*Suma con un numero*\n",
        "\n",
        "Si tenemos un Tensor llamado A, al restarle un valor entero, como por ejemplo, 1, tenemos que este valor se resta a cada uno de los valores del Tensor A, el siguiente es un ejemplo."
      ]
    },
    {
      "cell_type": "code",
      "execution_count": null,
      "metadata": {
        "id": "VvebfmlvlcdD",
        "outputId": "d4fd026e-d52d-4a5a-d8a4-28512bcc76b8"
      },
      "outputs": [
        {
          "name": "stdout",
          "output_type": "stream",
          "text": [
            "tensor([[[0.9760, 0.6638, 0.0548],\n",
            "         [0.4083, 0.7022, 0.1139]],\n",
            "\n",
            "        [[0.4340, 0.2360, 0.9260],\n",
            "         [0.2792, 0.5184, 0.1163]]])\n",
            "tensor([[[ 0.4760,  0.1638, -0.4452],\n",
            "         [-0.0917,  0.2022, -0.3861]],\n",
            "\n",
            "        [[-0.0660, -0.2640,  0.4260],\n",
            "         [-0.2208,  0.0184, -0.3837]]])\n"
          ]
        }
      ],
      "source": [
        "# Generar un tensor de tamaño [2,3 ,4] de valores aleatorios y restarle un valor x\n",
        "Random_Tensor = torch.rand([2, 2, 3])\n",
        "x = 0.5\n",
        "print(Random_Tensor)\n",
        "print(Random_Tensor - x)"
      ]
    },
    {
      "cell_type": "markdown",
      "metadata": {
        "id": "KJdOb2-1lcdD"
      },
      "source": [
        "*Suma con un Tensor menor*\n",
        "\n",
        "Si tenemos un Tensor llamado A, y otro Tensor B, ocurre que si el vector B es de un tamaño menor al de A, pero coinciden el resto de las dimensiones, este Tensor se restara a todos los Tensores del Tensor mas grande. Esto es complicado de ver a simple vista, pero el siguiente ejemplo puede entenderse mejor:"
      ]
    },
    {
      "cell_type": "code",
      "execution_count": null,
      "metadata": {
        "id": "EYQurmD6lcdE",
        "outputId": "1ba98f6b-6b8e-4865-92fd-12270bf7c94a"
      },
      "outputs": [
        {
          "name": "stdout",
          "output_type": "stream",
          "text": [
            "tensor([[[3., 1., 5.],\n",
            "         [1., 4., 5.]],\n",
            "\n",
            "        [[3., 1., 5.],\n",
            "         [1., 4., 5.]]])\n",
            "tensor([[[3., 1., 7.],\n",
            "         [3., 1., 7.]],\n",
            "\n",
            "        [[2., 7., 1.],\n",
            "         [2., 7., 1.]]])\n"
          ]
        }
      ],
      "source": [
        "# Hacer una suma de Tensores donde uno de ellos es de menor tamaño\n",
        "x = torch.zeros([2, 2, 3])\n",
        "y = torch.randint(1, 10, [2, 3])\n",
        "print(x + y)\n",
        "# En este caso se suma el tensor Y a cada uno de los elementos del tensor X\n",
        "# He aqui otro ejemplo\n",
        "x = torch.zeros([2, 2, 3])\n",
        "y = torch.randint(1, 10, [2, 1, 3])\n",
        "print(x + y)\n",
        "# En este caso se suma el tensor Y a cada uno de los elementos del tensor X pero \n",
        "# en este caso el tensor Y es de menor tamaño que el tensor X y se cambia el eje 1"
      ]
    },
    {
      "cell_type": "markdown",
      "metadata": {
        "id": "skb9aC_0lcdE"
      },
      "source": [
        "Todo esto ocurre igualmente con la resta de los vectores, por lo que no queda mucho el explicaro.\n",
        "\n",
        "\n",
        "*Multiplicación con un numero*\n",
        "\n",
        "Si tenemos un Tensor llamado A, podemos multiplicarle un numero entero, el cual se multiplicara a cada uno de los valores del tensor."
      ]
    },
    {
      "cell_type": "code",
      "execution_count": null,
      "metadata": {
        "id": "LXwheApHlcdF",
        "outputId": "2320c69e-c424-4346-8669-9aa119ab2fcd"
      },
      "outputs": [
        {
          "name": "stdout",
          "output_type": "stream",
          "text": [
            "tensor([[[1., 1., 1.],\n",
            "         [1., 1., 1.]],\n",
            "\n",
            "        [[1., 1., 1.],\n",
            "         [1., 1., 1.]]])\n",
            "tensor([[[0.5000, 0.5000, 0.5000],\n",
            "         [0.5000, 0.5000, 0.5000]],\n",
            "\n",
            "        [[0.5000, 0.5000, 0.5000],\n",
            "         [0.5000, 0.5000, 0.5000]]])\n"
          ]
        }
      ],
      "source": [
        "# Multiplicar un tensor por un escalar\n",
        "# Generar un tensor de tamaño [2,3 ,4] de valores aleatorios\n",
        "Random_Tensor = torch.ones([2, 2, 3])\n",
        "x = 0.5\n",
        "print(Random_Tensor)\n",
        "print(Random_Tensor * x)"
      ]
    },
    {
      "cell_type": "markdown",
      "metadata": {
        "id": "eecRrdnvlcdF"
      },
      "source": [
        "\n",
        "*Multiplicación con un Tensor*\n",
        "\n",
        "Si tenemos un Tensor llamado A y un Tensor llamado B, al igual que con la suma, podemos hacer tanto la multiplicación de Tensor, haciendo que cada elemento del Tensor se multiplique por el elemento de Tensor:"
      ]
    },
    {
      "cell_type": "code",
      "execution_count": null,
      "metadata": {
        "id": "ALhb9q_tlcdG",
        "outputId": "a10546e1-b478-41a3-9d07-8e5ba52fc362"
      },
      "outputs": [
        {
          "name": "stdout",
          "output_type": "stream",
          "text": [
            "tensor([[[0.4942, 0.7548, 0.4827],\n",
            "         [0.7563, 0.0076, 0.3158]],\n",
            "\n",
            "        [[0.9523, 0.5114, 0.4759],\n",
            "         [0.4838, 0.7487, 0.5460]]])\n",
            "tensor([[[1., 1., 1.],\n",
            "         [1., 1., 1.]],\n",
            "\n",
            "        [[1., 1., 1.],\n",
            "         [1., 1., 1.]]])\n",
            "tensor([[[0.4942, 0.7548, 0.4827],\n",
            "         [0.7563, 0.0076, 0.3158]],\n",
            "\n",
            "        [[0.9523, 0.5114, 0.4759],\n",
            "         [0.4838, 0.7487, 0.5460]]])\n"
          ]
        }
      ],
      "source": [
        "# Multiplicar un tensor por otro tensor\n",
        "# Generar un tensor de tamaño [2,3 ,4] de valores aleatorios\n",
        "Random_Tensor = torch.rand([2, 2, 3])\n",
        "x = torch.ones([2, 2, 3])\n",
        "print(Random_Tensor)\n",
        "print(x)\n",
        "print(Random_Tensor * x)"
      ]
    },
    {
      "cell_type": "markdown",
      "metadata": {
        "id": "BunoS1KBlcdG"
      },
      "source": [
        "\n",
        "## Producto Punto entre Tensores\n",
        "\n",
        "La herramienta del producto punto entre los tensores realmente no se utiliza demasiado para Tensores de tamaño mayor a 3, por lo que no utilizaremos realmente la aplicación para un tamaño mayor a 2.\n",
        "\n",
        "El producto punto entre 2 Tensores de tamaño 2 es algo complicado, ya que no tiene una definición sencilla, pero para poder entender mejor como funciona podemos hacerlo ver entre 2 vectores. \n",
        "\n",
        "El producto punto entre 2 vectores es algo mas sencillo de ver, ya que si tenemos un vector $A = [1,2,3]$ y un vector $B = [2,3,-1]$, el producto punto esta definido como $A\\cdot B=A_1*B_1+A_2*B_2+A_3*B_3+...+A_n*B_n$\n",
        "\n",
        "En este caso, si tenemos los vectores A y B, tenemos $A\\cdot B=1*2+2*3+3*-1=5$\n",
        "\n",
        "La forma en la que hacemos los productos punto entre 2 vectores en pytorch es variada, existen muchos metodos, el primero es escoger el primer vector y llamar a su función .dot\n",
        "\n",
        "_A = Tensor ([1,2,3])_\n",
        "\n",
        "_B = Tensor ([2,3,-1])_\n",
        "_A.dot(B)_\n",
        "\n",
        "Esta función retorna el valor de A con el producto de B y no lo modifica, he aqui el ejemplo:"
      ]
    },
    {
      "cell_type": "code",
      "execution_count": null,
      "metadata": {
        "id": "hU6r3PlFlcdG",
        "outputId": "ee57e8cc-2dd2-4a62-e968-c9f68367db12"
      },
      "outputs": [
        {
          "name": "stdout",
          "output_type": "stream",
          "text": [
            "tensor(5)\n",
            "tensor([1, 2, 3])\n"
          ]
        }
      ],
      "source": [
        "# Producto punto entre 2 vectores\n",
        "A = torch.tensor([1, 2, 3]) # Vector A\n",
        "B = torch.tensor([2, 3, -1]) # Vector B\n",
        "print(A.dot(B)) # Producto punto entre A y B\n",
        "print(A) # Vector A original y sin modificar"
      ]
    },
    {
      "cell_type": "markdown",
      "metadata": {
        "id": "-LxIXR06lcdG"
      },
      "source": [
        "El segundo metodo es llamando a la libreria Pytorch y sacar la funcion matmul(A,B), que devuelve exactamente el producto punto."
      ]
    },
    {
      "cell_type": "code",
      "execution_count": null,
      "metadata": {
        "id": "najnaoITlcdH",
        "outputId": "8d5d2b22-0a56-4d93-afbf-13524c60085d"
      },
      "outputs": [
        {
          "name": "stdout",
          "output_type": "stream",
          "text": [
            "tensor(5)\n"
          ]
        }
      ],
      "source": [
        "# Hacer producto punto entre 2 vectores pero con la funcion matmul\n",
        "A = torch.tensor([1, 2, 3]) # Vector A\n",
        "B = torch.tensor([2, 3, -1]) # Vector B\n",
        "print(torch.matmul(A, B)) # Producto punto entre A y B"
      ]
    },
    {
      "cell_type": "markdown",
      "metadata": {
        "id": "4_Y9R0KYlcdH"
      },
      "source": [
        "El tercer metodo es usando el operador @, que al igual que + es para suma, - es para resta, * es para multiplicación, @ es para el producto punto."
      ]
    },
    {
      "cell_type": "code",
      "execution_count": null,
      "metadata": {
        "id": "4DwVLJcDlcdH",
        "outputId": "c81a49b1-9be0-428d-b886-f6629d8b6fcb"
      },
      "outputs": [
        {
          "name": "stdout",
          "output_type": "stream",
          "text": [
            "tensor(5)\n"
          ]
        }
      ],
      "source": [
        "# Utilizar @ para hacer producto punto entre 2 vectores\n",
        "A = torch.tensor([1, 2, 3]) # Vector A\n",
        "B = torch.tensor([2, 3, -1]) # Vector B\n",
        "print(A @ B) # Producto punto entre A y B"
      ]
    },
    {
      "cell_type": "markdown",
      "metadata": {
        "id": "CNTa9Yd8lcdH"
      },
      "source": [
        "Una vez definido el producto punto de 2 vectores, podemos expandir el resultado a matrices. Como vimos entre 2 vectores, es volver un vector del mismo tamaño en un valor escalar. En este caso si tenemos una matriz, hacemos el mismo proceso para vectores dentro de la matriz. Si tenemos las matrices:"
      ]
    },
    {
      "cell_type": "code",
      "execution_count": null,
      "metadata": {
        "id": "-qPMGiSllcdH",
        "outputId": "7a1690df-52a8-4e36-de59-9d4121ae569f"
      },
      "outputs": [
        {
          "name": "stdout",
          "output_type": "stream",
          "text": [
            "torch.Size([2, 3])\n",
            "torch.Size([3, 2])\n",
            "tensor([[1, 2, 3],\n",
            "        [4, 5, 6]])\n",
            "tensor([[1, 2],\n",
            "        [3, 4],\n",
            "        [5, 6]])\n"
          ]
        }
      ],
      "source": [
        "# Generar una matriz para testear el producto punto\n",
        "A = torch.tensor([[1, 2, 3], [4, 5, 6]]) # Matriz A de 2x3\n",
        "# Crear una matriz de 3x2\n",
        "B = torch.tensor([[1, 2], [3, 4], [5, 6]]) # Matriz B de 3x2\n",
        "print(A.shape)\n",
        "print(B.shape)\n",
        "print(A)\n",
        "print(B)"
      ]
    },
    {
      "cell_type": "markdown",
      "metadata": {
        "id": "RkcvTD13lcdI"
      },
      "source": [
        "Podemos agarrar la matriz y dividirla en vectores, en este caso podemos partir la matriz A en 2 vectores $A_1 = [1,2,3]$ , y el vector $A_2 = [4,5,6]$ los cuales son vectores horizontales, o tensores de tamaño 1xn, de la misma manera con la matriz B, pero ahora son vectores verticales nx1 $B_1 = [1,2,3]$, y el vector $B_2 = [4,5,6]$, por lo que tenemos el producto punto entre cada vector horizontal de A por el resto del vector vertical de B, por lo que tenemos 4 operaciones: [$A_1\\cdot B_1, A_1\\cdot B_2, A_2\\cdot B_1, A_2\\cdot B_2$]\n",
        "\n",
        "Cada producto punto entre los vectores es un valor unico y final, no se suman y forman otra matriz, por lo que tenemos una matriz final con el resultado de los productos punto. Y esto genera un objeto nuevo, pero el producto punto de matrices posee algunas propiedades.\n",
        "\n",
        "**Propiedades del producto punto**\n",
        "Si tenemos 2 matrices A y B de tamaño 3x4 y 4x5 respectivamente. Al hacer un producto entre estas Matrices, el resultado final sera de tamaño 3x5. Por lo que tenemos la regla general de.\n",
        "\n",
        "Si A tiene dimensión (MxN) y B tiene dimensión (NxK)\n",
        "\n",
        "A@B = C y C tiene como dimensión (MxK)\n",
        "\n",
        "Ejemplo:"
      ]
    },
    {
      "cell_type": "code",
      "execution_count": null,
      "metadata": {
        "id": "vRIOvlg2lcdI",
        "outputId": "1656e20f-8871-453d-92f0-3f2abec5b419"
      },
      "outputs": [
        {
          "name": "stdout",
          "output_type": "stream",
          "text": [
            "torch.Size([3, 4])\n",
            "torch.Size([4, 5])\n",
            "torch.Size([3, 5])\n",
            "tensor([[0.8149, 0.6820, 0.4488, 0.9432, 0.5451],\n",
            "        [0.9957, 1.2316, 1.3285, 1.5159, 0.9733],\n",
            "        [0.8456, 1.3437, 1.6448, 1.7620, 1.0040]])\n"
          ]
        }
      ],
      "source": [
        "# Hacer el producto punto entre las 2 matrices y mostrar el cambio de tamaño\n",
        "A = torch.rand([3, 4]) # Matriz A de 2x3\n",
        "B = torch.rand([4, 5]) # Matriz B de 3x2\n",
        "print(A.shape)\n",
        "print(B.shape)\n",
        "# Hacer el producto punto entre las 2 matrices e imprimir el resultado\n",
        "print(torch.matmul(A, B).shape)\n",
        "print(torch.matmul(A, B))"
      ]
    },
    {
      "cell_type": "markdown",
      "metadata": {
        "id": "SF-0rurHlcdJ"
      },
      "source": [
        "## Funciones para Tensores\n",
        "\n",
        "Una vez ya vistas las operaciones de Tensores, podemos ver funciones que nos otorga Pytorch para manejar Tensores."
      ]
    },
    {
      "cell_type": "markdown",
      "metadata": {
        "id": "ZUQ4ClsvlcdJ"
      },
      "source": [
        "### Squeeze"
      ]
    },
    {
      "cell_type": "code",
      "execution_count": null,
      "metadata": {
        "id": "f-0rUs9XlcdJ",
        "outputId": "575871fc-2e73-4e83-e4d9-7b516a3cedd0"
      },
      "outputs": [
        {
          "name": "stdout",
          "output_type": "stream",
          "text": [
            "torch.Size([2, 1, 1, 3, 1, 3])\n",
            "torch.Size([2, 3, 3])\n",
            "torch.Size([2, 1, 3, 1, 3])\n"
          ]
        }
      ],
      "source": [
        "# Presentar las funciones de Pytorch para manejo de tensores\n",
        "# Squeeze\n",
        "# Generar un tensor de tamaño [2,3 ,4] de valores aleatorios\n",
        "Random_Tensor = torch.rand([2, 1, 1, 3, 1, 3])\n",
        "print(Random_Tensor.shape)\n",
        "# La funcion squeeze elimina los elementos de tamaño 1 y reduce las dimensiones extra\n",
        "print(Random_Tensor.squeeze().shape)\n",
        "# A la vez puedes escoger que dimensiones quieres eliminar\n",
        "print(Random_Tensor.squeeze(1).shape) # Elimina la dimension 1"
      ]
    },
    {
      "cell_type": "markdown",
      "metadata": {
        "id": "tqYvwmMUlcdJ"
      },
      "source": [
        "### Unsqueeze"
      ]
    },
    {
      "cell_type": "code",
      "execution_count": null,
      "metadata": {
        "id": "3jnbtPbvlcdK",
        "outputId": "6bf9562d-e85a-4e2a-bc3b-b726f1288e1a"
      },
      "outputs": [
        {
          "name": "stdout",
          "output_type": "stream",
          "text": [
            "torch.Size([2, 3, 4])\n",
            "torch.Size([1, 2, 3, 4])\n",
            "torch.Size([2, 1, 3, 4])\n"
          ]
        }
      ],
      "source": [
        "# Unsqueeze\n",
        "# Generar un tensor de tamaño [2,3 ,4] de valores aleatorios\n",
        "Random_Tensor = torch.rand([2, 3, 4])\n",
        "print(Random_Tensor.shape)\n",
        "# La funcion unsqueeze agrega una dimension de tamaño 1\n",
        "print(Random_Tensor.unsqueeze(0).shape)\n",
        "# A la vez puedes escoger que dimensiones quieres agregar\n",
        "print(Random_Tensor.unsqueeze(1).shape) # Agrega la dimension 1"
      ]
    },
    {
      "cell_type": "markdown",
      "metadata": {
        "id": "XDV47wsnlcdL"
      },
      "source": [
        "### Transpose"
      ]
    },
    {
      "cell_type": "code",
      "execution_count": null,
      "metadata": {
        "id": "zdiVhmS9lcdL",
        "outputId": "e94bda5f-9bb2-4f9f-8ddd-9ee343672c38"
      },
      "outputs": [
        {
          "name": "stdout",
          "output_type": "stream",
          "text": [
            "torch.Size([2, 3, 4])\n",
            "torch.Size([3, 2, 4])\n",
            "torch.Size([2, 4, 3])\n",
            "torch.Size([4, 3, 2])\n"
          ]
        }
      ],
      "source": [
        "# Transpose\n",
        "# Generar un tensor de tamaño [2,3 ,4] de valores aleatorios\n",
        "Random_Tensor = torch.rand([2, 3, 4])\n",
        "print(Random_Tensor.shape)\n",
        "# La funcion transpose cambia las dimensiones\n",
        "print(Random_Tensor.transpose(0, 1).shape) # Cambia la dimension 0 por la 1\n",
        "print(Random_Tensor.transpose(1, 2).shape) # Cambia la dimension 1 por la 2\n",
        "print(Random_Tensor.transpose(0, 2).shape) # Cambia la dimension 0 por la 2"
      ]
    },
    {
      "cell_type": "markdown",
      "metadata": {
        "id": "p_8MnNjSlcdM"
      },
      "source": [
        "### Permute"
      ]
    },
    {
      "cell_type": "code",
      "execution_count": null,
      "metadata": {
        "id": "k0lXc3I3lcdM",
        "outputId": "8617fe44-46e9-4b6b-d7f5-113536a9ea98"
      },
      "outputs": [
        {
          "name": "stdout",
          "output_type": "stream",
          "text": [
            "torch.Size([2, 3, 4])\n",
            "torch.Size([2, 3, 4])\n",
            "torch.Size([3, 4, 2])\n",
            "torch.Size([4, 2, 3])\n"
          ]
        }
      ],
      "source": [
        "# Permute\n",
        "# Generar un tensor de tamaño [2,3 ,4] de valores aleatorios\n",
        "Random_Tensor = torch.rand([2, 3, 4])\n",
        "print(Random_Tensor.shape)\n",
        "# La funcion permute cambia las dimensiones\n",
        "print(Random_Tensor.permute(0, 1, 2).shape) # Cambia la dimension 0 por la 1\n",
        "print(Random_Tensor.permute(1, 2, 0).shape) # Cambia la dimension 1 por la 2\n",
        "print(Random_Tensor.permute(2, 0, 1).shape) # Cambia la dimension 0 por la 2"
      ]
    },
    {
      "cell_type": "markdown",
      "metadata": {
        "id": "Gpw6eHA8lcdM"
      },
      "source": [
        "### Transpose"
      ]
    },
    {
      "cell_type": "code",
      "execution_count": null,
      "metadata": {
        "id": "mu_KZN5_lcdN",
        "outputId": "d30c4c6a-4c06-4ac0-845e-23d17131876e"
      },
      "outputs": [
        {
          "name": "stdout",
          "output_type": "stream",
          "text": [
            "torch.Size([2, 3, 4]) Original\n",
            "torch.Size([2, 12])\n",
            "torch.Size([4, 6])\n",
            "torch.Size([24]) Aplanado\n",
            "torch.Size([24]) Original\n",
            "torch.Size([2, 3, 4]) Vuelto a su forma original\n"
          ]
        }
      ],
      "source": [
        "# View\n",
        "# Generar un tensor de tamaño [2,3 ,4] de valores aleatorios\n",
        "Random_Tensor = torch.rand([2, 3, 4])\n",
        "print(Random_Tensor.shape, \"Original\")\n",
        "# La funcion view cambia las dimensiones del tensor pero no cambia el tamaño, conserva los datos\n",
        "print(Random_Tensor.view(-1, 12).shape) # Cambia las dimensiones a 2x12\n",
        "# el termino -1 indica que el tamaño de esa dimension se calcula automaticamente\n",
        "print(Random_Tensor.view(-1, 6).shape) # Cambia las dimensiones a 4x6\n",
        "# Tambien podemos hacer que un tensor se aplane\n",
        "print(Random_Tensor.view(-1).shape,\"Aplanado\") # Aplana el tensor\n",
        "# Tambien podemos hacer que un tensor plano se vuelva a su forma original\n",
        "plane_tensor = torch.rand([24])\n",
        "print(plane_tensor.shape, \"Original\")\n",
        "print(plane_tensor.view(2, 3, 4).shape, \"Vuelto a su forma original\")\n"
      ]
    },
    {
      "cell_type": "code",
      "execution_count": null,
      "metadata": {
        "id": "PHpcXcSClcdN",
        "outputId": "aa60a76d-b5ee-4bbb-8194-a3970d37a803"
      },
      "outputs": [
        {
          "name": "stdout",
          "output_type": "stream",
          "text": [
            "torch.Size([2, 3, 4]) Original\n",
            "torch.Size([2, 12])\n"
          ]
        }
      ],
      "source": [
        "# Otra funcion para cambiar las dimensiones de un tensor es la funcion reshape\n",
        "# Generar un tensor de tamaño [2,3 ,4] de valores aleatorios\n",
        "Random_Tensor = torch.rand([2, 3, 4])\n",
        "print(Random_Tensor.shape, \"Original\")\n",
        "# La funcion reshape cambia las dimensiones del tensor pero no cambia el tamaño, conserva los datos\n",
        "print(Random_Tensor.reshape(-1, 12).shape) # Cambia las dimensiones a 2x12\n",
        "# De esta forma funciona igual que la funcion view"
      ]
    }
  ],
  "metadata": {
    "kernelspec": {
      "display_name": "Python 3.10.6 ('MLearn')",
      "language": "python",
      "name": "python3"
    },
    "language_info": {
      "codemirror_mode": {
        "name": "ipython",
        "version": 3
      },
      "file_extension": ".py",
      "mimetype": "text/x-python",
      "name": "python",
      "nbconvert_exporter": "python",
      "pygments_lexer": "ipython3",
      "version": "3.10.6"
    },
    "orig_nbformat": 4,
    "vscode": {
      "interpreter": {
        "hash": "1058049c90606192da676468de4df3375dae8798757e4b7b4e8324fc5d0690b4"
      }
    },
    "colab": {
      "provenance": [],
      "include_colab_link": true
    }
  },
  "nbformat": 4,
  "nbformat_minor": 0
}