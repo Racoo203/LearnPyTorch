{
  "cells": [
    {
      "cell_type": "markdown",
      "metadata": {
        "id": "view-in-github",
        "colab_type": "text"
      },
      "source": [
        "<a href=\"https://colab.research.google.com/github/Racoo203/LearnPyTorch/blob/main/2Calculo.ipynb\" target=\"_parent\"><img src=\"https://colab.research.google.com/assets/colab-badge.svg\" alt=\"Open In Colab\"/></a>"
      ]
    },
    {
      "cell_type": "markdown",
      "metadata": {
        "id": "xVhcdpEqazPP"
      },
      "source": [
        "# Calculo de Tensores\n",
        "\n",
        "Al igual que con los vectores y las matrices, podemos aplicar la teoria del calculo en los tensores. La ventaja de todo esto es que los calculos que se hacen son bastante similares al calculo clasico.\n",
        "\n",
        "### Calcular la derivada\n",
        "\n",
        "La ventaja de utilizar Pytorch con respecto al resto de librerias es que, cada vez que utilizas o hacemos operacion de Tensores, dentro de estos se guarda en la memoria cada operación que hacemos, por lo que al resultado final podemos aplicarle una función llamada .backward() que es la derivada de lo que se calculo.\n",
        "\n",
        "### Un ejemplo de función Backward\n",
        "\n",
        "Si tenemos el tensor X, podemos hacer que lo elevemos al cuadrado y le sumemos X, teniendo \n",
        "\n",
        "$Y = X^2 + X$"
      ]
    },
    {
      "cell_type": "code",
      "execution_count": null,
      "metadata": {
        "id": "s2XoFsEBazPT",
        "outputId": "814ca152-aa8a-4a43-9641-500695b7712c"
      },
      "outputs": [
        {
          "name": "stderr",
          "output_type": "stream",
          "text": [
            "c:\\Users\\Felip\\Miniconda3\\envs\\MLearn\\lib\\site-packages\\tqdm\\auto.py:22: TqdmWarning: IProgress not found. Please update jupyter and ipywidgets. See https://ipywidgets.readthedocs.io/en/stable/user_install.html\n",
            "  from .autonotebook import tqdm as notebook_tqdm\n"
          ]
        }
      ],
      "source": [
        "import torch"
      ]
    },
    {
      "cell_type": "code",
      "execution_count": null,
      "metadata": {
        "id": "64zuA-isazPV",
        "outputId": "4d04c1cb-e22c-4b88-8695-7d0403dd3174"
      },
      "outputs": [
        {
          "name": "stdout",
          "output_type": "stream",
          "text": [
            "tensor([6., 5., 7., 9.])\n"
          ]
        }
      ],
      "source": [
        "# Probar la función Backward con un ejemplo\n",
        "# Tensor X y hacer la formula\n",
        "# Y = X^2 + X\n",
        "# Su derivada es 2X + 1\n",
        "X = torch.tensor([1, 2, 3, 4], dtype=torch.float32, requires_grad=True)\n",
        "Y = X**2 + X\n",
        "Y.backward(torch.tensor([1, 1, 1, 1], dtype=torch.float32))\n",
        "print(X.grad)\n",
        "# En este caso el resultado es el mismo que la derivada\n",
        "# de la función, teniendo Y' = 2X + 1\n",
        "# Y' = 2*1 + 1 = 3\n",
        "# Y' = 2*2 + 1 = 5\n",
        "# Y' = 2*3 + 1 = 7\n",
        "# Y' = 2*4 + 1 = 9\n"
      ]
    },
    {
      "cell_type": "markdown",
      "metadata": {
        "id": "I5FwkpqgazPW"
      },
      "source": [
        "De esta forma, tenemos una forma sencilla de poder calcular las derivadas de las operaciones que hagamos con los vectores con respecto a un valor."
      ]
    },
    {
      "cell_type": "code",
      "execution_count": null,
      "metadata": {
        "id": "XVZIheK-azPX",
        "outputId": "f69e9ee8-5f81-4e15-96cf-55886ae57360"
      },
      "outputs": [
        {
          "name": "stdout",
          "output_type": "stream",
          "text": [
            "tensor([ 6., 15., 28., 45.])\n"
          ]
        }
      ],
      "source": [
        "# Probar la función Backward con un ejemplo\n",
        "# Tensor X y hacer la formula\n",
        "# Y = X^2 + X\n",
        "# Su derivada es 2X + 1\n",
        "X = torch.tensor([1, 2, 3, 4], dtype=torch.float32, requires_grad=True)\n",
        "Y = X**2 + X\n",
        "Y.backward(torch.tensor([2, 3, 4, 5], dtype=torch.float32))\n",
        "print(X.grad)"
      ]
    },
    {
      "cell_type": "markdown",
      "metadata": {
        "id": "fpe7wLyZazPY"
      },
      "source": [
        "Podemos a la vez definir funciones que nos devuelvan valores y aun asi la derivada se va a conservar, esto es porque las operaciones se guardan en la memoria incluso como función."
      ]
    },
    {
      "cell_type": "code",
      "execution_count": null,
      "metadata": {
        "id": "lE1DF5zOazPZ",
        "outputId": "90f3f896-6f69-4cc3-8985-65c01e4daf13"
      },
      "outputs": [
        {
          "name": "stdout",
          "output_type": "stream",
          "text": [
            "tensor([10., 23., 42., 67.])\n"
          ]
        }
      ],
      "source": [
        "# Definir una función para demostrar el uso de la función Backward con funcinoes de python\n",
        "\n",
        "def function(x):\n",
        "    return x**3 + 2*x**2 + 3*x + 4 # Derivada de la función es 3x^2 + 4x + 3\n",
        "\n",
        "X = torch.tensor([1, 2, 3, 4], dtype=torch.float32, requires_grad=True)\n",
        "Y = function(X)\n",
        "Y.backward(torch.tensor([1, 1, 1, 1], dtype=torch.float32))\n",
        "print(X.grad)\n",
        "    "
      ]
    },
    {
      "cell_type": "code",
      "execution_count": null,
      "metadata": {
        "id": "feB5PzIbazPa"
      },
      "outputs": [],
      "source": []
    }
  ],
  "metadata": {
    "kernelspec": {
      "display_name": "Python 3.10.6 ('MLearn')",
      "language": "python",
      "name": "python3"
    },
    "language_info": {
      "codemirror_mode": {
        "name": "ipython",
        "version": 3
      },
      "file_extension": ".py",
      "mimetype": "text/x-python",
      "name": "python",
      "nbconvert_exporter": "python",
      "pygments_lexer": "ipython3",
      "version": "3.10.6"
    },
    "orig_nbformat": 4,
    "vscode": {
      "interpreter": {
        "hash": "1058049c90606192da676468de4df3375dae8798757e4b7b4e8324fc5d0690b4"
      }
    },
    "colab": {
      "provenance": [],
      "include_colab_link": true
    }
  },
  "nbformat": 4,
  "nbformat_minor": 0
}